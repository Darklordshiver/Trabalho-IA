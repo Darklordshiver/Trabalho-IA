{
  "nbformat": 4,
  "nbformat_minor": 0,
  "metadata": {
    "colab": {
      "provenance": []
    },
    "kernelspec": {
      "name": "python3",
      "display_name": "Python 3"
    },
    "language_info": {
      "name": "python"
    }
  },
  "cells": [
    {
      "cell_type": "code",
      "execution_count": null,
      "metadata": {
        "colab": {
          "base_uri": "https://localhost:8080/"
        },
        "id": "uKZNeydbcMFZ",
        "outputId": "cb3e9d84-7cb3-4630-cac6-1746b962eb8a"
      },
      "outputs": [
        {
          "output_type": "stream",
          "name": "stdout",
          "text": [
            "Drive already mounted at /content/drive; to attempt to forcibly remount, call drive.mount(\"/content/drive\", force_remount=True).\n",
            "(60, 10)\n",
            "(60, 10)\n"
          ]
        }
      ],
      "source": [
        "from pandas.core.dtypes.dtypes import PandasExtensionDtype\n",
        "from google.colab import drive\n",
        "import numpy as np\n",
        "import pandas as pd\n",
        "from sklearn.datasets import load_digits\n",
        "from sklearn.model_selection import train_test_split\n",
        "from sklearn.linear_model import LogisticRegression\n",
        "from sklearn.cluster import KMeans\n",
        "from sklearn.metrics import accuracy_score\n",
        "\n",
        "drive.mount('/content/drive')\n",
        "data = pd.read_csv('/content/drive/MyDrive/jogadores.csv', sep = ';')\n",
        "\n",
        "data['Classe'] = data['Classe'].replace('Atacante',1)\n",
        "data['Classe'] = data['Classe'].replace('Defensor',0)\n",
        "data1 = data[0:len(data)//2]\n",
        "data2 = data[len(data)//2:]\n"
      ]
    },
    {
      "cell_type": "code",
      "source": [
        "import numpy as np\n",
        "import pandas as pd\n",
        "from sklearn.datasets import load_digits \n",
        "from sklearn.model_selection import train_test_split\n",
        "from sklearn.linear_model import LogisticRegression\n",
        "from sklearn.cluster import KMeans\n",
        "from sklearn.metrics import accuracy_score\n",
        "\n",
        "class clust():\n",
        "    def _load_data(self, input1, input2):\n",
        "\n",
        "        data1 = input1\n",
        "        data2 = input2\n",
        "\n",
        "        X = pd.DataFrame(data1)\n",
        "        X = X.drop(columns=['Id', 'Chute', 'Velocidade'])\n",
        "        X1 = pd.DataFrame(data2)\n",
        "\n",
        "        self.treino = X1.drop(columns=['Id', 'Chute', 'Velocidade'])\n",
        "        self.teste = X1[\"Classe\"]\n",
        "\n",
        "        self.X_train, self.X_test, self.y_train, self.y_test = train_test_split(X, data1.Classe, test_size=0.3, random_state=42)\n",
        "    \n",
        "    def __init__(self, input1, input2):\n",
        "        self._load_data(input1, input2)\n",
        "    \n",
        "    \n",
        "    def classify(self, model=LogisticRegression(random_state=42)):\n",
        "        model.fit(self.X_train, self.y_train)\n",
        "        y_pred = model.predict(self.X1_train)\n",
        "        print('Accuracy: {}'.format(accuracy_score(self.y1_train, y_pred)))\n",
        "        cont = 0\n",
        "        print(y_pred)\n",
        "\n",
        "    def Kmeans(self, output='add'):\n",
        "        n_clusters = len(np.unique(self.y_train))\n",
        "        clf = KMeans(n_clusters = n_clusters, random_state=42)\n",
        "        clf.fit(self.X_train)\n",
        "        y_labels_train = clf.labels_\n",
        "        y_labels_test = clf.predict(self.X_train)\n",
        "        print('Accuracy: {}'.format(accuracy_score(self.y_train, y_labels_test)))\n",
        "\n",
        "        # if output == 'add':\n",
        "        #     self.X_train['km_clust'] = y_labels_train\n",
        "        #     self.X_test['km_clust'] = y_labels_test\n",
        "        # elif output == 'replace':\n",
        "        #     self.X_train = y_labels_train[:, np.newaxis]\n",
        "        #     self.X_test = y_labels_test[:, np.newaxis]\n",
        "        # else:\n",
        "        #     raise ValueError('output should be either add or replace')\n",
        "        return self"
      ],
      "metadata": {
        "id": "dC12ogvqc7-8"
      },
      "execution_count": null,
      "outputs": []
    },
    {
      "cell_type": "code",
      "source": [
        "#clust(data1,data2).Kmeans(output = 'replace').classify()\n",
        "clust(data1, data2).Kmeans(output = 'add')"
      ],
      "metadata": {
        "id": "Itr8IpkqhLmc",
        "colab": {
          "base_uri": "https://localhost:8080/"
        },
        "outputId": "92c77c3e-b57e-458b-cf61-6c923253404b"
      },
      "execution_count": null,
      "outputs": [
        {
          "output_type": "stream",
          "name": "stdout",
          "text": [
            "Accuracy: 0.19047619047619047\n"
          ]
        },
        {
          "output_type": "execute_result",
          "data": {
            "text/plain": [
              "<__main__.clust at 0x7fc6f19eec10>"
            ]
          },
          "metadata": {},
          "execution_count": 160
        }
      ]
    }
  ]
}